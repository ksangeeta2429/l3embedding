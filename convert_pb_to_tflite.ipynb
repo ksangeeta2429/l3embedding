{
 "cells": [
  {
   "cell_type": "code",
   "execution_count": 1,
   "metadata": {},
   "outputs": [],
   "source": [
    "import warnings\n",
    "import tensorflow as tf\n",
    "import os\n",
    "\n",
    "warnings.filterwarnings(\"ignore\", category=FutureWarning)"
   ]
  },
  {
   "cell_type": "code",
   "execution_count": 8,
   "metadata": {},
   "outputs": [],
   "source": [
    "model_dir = '/scratch/sk7898/quantization/pipeline_cmsis/'\n",
    "model_ts = '20200220101611'\n",
    "output_dir = os.path.join(model_dir, model_ts)\n",
    "tflite_path = os.path.join(output_dir, 'qa_cmsis_model.tflite')\n",
    "\n",
    "# A list of the names of the model's input tensors\n",
    "input_arrays = ['input_1']\n",
    "# A list of the names of the model's output tensors\n",
    "output_arrays = ['urban_sound_classifier/output/Sigmoid']\n",
    "\n",
    "converter = tf.compat.v1.lite.TFLiteConverter.from_frozen_graph(os.path.join(output_dir, \\\n",
    "                                                                             'frozen_pipeline_cmsis_mels_quant.pb'),\n",
    "                                                               input_arrays = input_arrays,\\\n",
    "                                                               output_arrays = output_arrays)\n",
    "\n",
    "#converter.inference_type = tf.int8\n",
    "#converter.inference_input_type = tf.int8\n",
    "input_arrays = converter.get_input_arrays()\n",
    "converter.default_ranges_min=0\n",
    "converter.default_ranges_max=6\n",
    "\n",
    "flatbuffer = converter.convert()\n",
    "\n",
    "with open(tflite_path, 'wb') as outfile:\n",
    "    outfile.write(flatbuffer)"
   ]
  },
  {
   "cell_type": "code",
   "execution_count": 9,
   "metadata": {},
   "outputs": [
    {
     "name": "stdout",
     "output_type": "stream",
     "text": [
      "== Input details ==\n",
      "{'name': 'input_1', 'index': 66, 'shape': array([ 1, 64, 51,  1], dtype=int32), 'dtype': <class 'numpy.float32'>, 'quantization': (0.0, 0)}\n",
      "type: <class 'numpy.float32'>\n",
      "\n",
      "== Output details ==\n",
      "{'name': 'urban_sound_classifier/output/Sigmoid', 'index': 85, 'shape': array([], dtype=int32), 'dtype': <class 'numpy.float32'>, 'quantization': (0.0, 0)}\n"
     ]
    }
   ],
   "source": [
    "interpreter = tf.lite.Interpreter(model_path=tflite_path) \n",
    "input_details = interpreter.get_input_details()\n",
    "output_details = interpreter.get_output_details()\n",
    "\n",
    "input_shape = input_details[0]['shape'][1:]\n",
    "output_shape = output_details[0]['shape'][1:]\n",
    "input_index = input_details[0]['index']\n",
    "output_index = output_details[0]['index']\n",
    "\n",
    "print(\"== Input details ==\")\n",
    "print(interpreter.get_input_details()[0])\n",
    "print(\"type:\", input_details[0]['dtype'])\n",
    "print(\"\\n== Output details ==\")\n",
    "print(interpreter.get_output_details()[0])\n",
    "\n",
    "interpreter.allocate_tensors()"
   ]
  },
  {
   "cell_type": "code",
   "execution_count": null,
   "metadata": {},
   "outputs": [],
   "source": []
  }
 ],
 "metadata": {
  "kernelspec": {
   "display_name": "Python 3",
   "language": "python",
   "name": "python3"
  },
  "language_info": {
   "codemirror_mode": {
    "name": "ipython",
    "version": 3
   },
   "file_extension": ".py",
   "mimetype": "text/x-python",
   "name": "python",
   "nbconvert_exporter": "python",
   "pygments_lexer": "ipython3",
   "version": "3.6.7"
  }
 },
 "nbformat": 4,
 "nbformat_minor": 4
}
