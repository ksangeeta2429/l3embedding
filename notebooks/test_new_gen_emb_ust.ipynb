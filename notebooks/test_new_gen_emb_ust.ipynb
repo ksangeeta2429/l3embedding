{
 "cells": [
  {
   "cell_type": "code",
   "execution_count": 1,
   "metadata": {},
   "outputs": [],
   "source": [
    "import csv\n",
    "import logging\n",
    "import os\n",
    "import math\n",
    "import glob\n",
    "import random\n",
    "import numpy as np\n",
    "import pandas as pd\n",
    "import multiprocessing as mp\n",
    "import data.usc.features as cls_features\n",
    "from log import LogTimer"
   ]
  },
  {
   "cell_type": "code",
   "execution_count": 9,
   "metadata": {},
   "outputs": [
    {
     "name": "stdout",
     "output_type": "stream",
     "text": [
      "3068\n",
      "3068\n"
     ]
    }
   ],
   "source": [
    "num_partitions = 15\n",
    "partitions = [i for i in range(num_partitions)]\n",
    "data_dir = '/beegfs/dr2915/sonyc_ust'\n",
    "annotation_path = os.path.join(data_dir, 'annotations.csv')\n",
    "annotation_data = pd.read_csv(annotation_path).sort_values('audio_filename')\n",
    "df = annotation_data[['split', 'audio_filename']].drop_duplicates()\n",
    "\n",
    "sum_rows = 0\n",
    "for partition_to_run in partitions:\n",
    "    if partition_to_run is None:\n",
    "        row_iter = df\n",
    "    else:\n",
    "        n_rows = df.shape[0]\n",
    "        partition_size = math.ceil(n_rows / num_partitions)\n",
    "        start_idx = partition_to_run * partition_size\n",
    "        end_idx = min(n_rows, (partition_to_run + 1) * partition_size)\n",
    "        df_split = df.iloc[start_idx:end_idx]\n",
    "        row_iter = df_split\n",
    "    sum_rows = sum_rows + row_iter.shape[0]\n",
    "    \n",
    "print(df.shape[0])\n",
    "print(sum_rows)"
   ]
  },
  {
   "cell_type": "code",
   "execution_count": 6,
   "metadata": {},
   "outputs": [],
   "source": [
    "output_dir = '/scratch/sk7898/embeddings/features/sonyc_ust/quantized_l3/default_int8/l3_audio_20200304152812_8000_64_160_1024_half'"
   ]
  },
  {
   "cell_type": "code",
   "execution_count": 45,
   "metadata": {},
   "outputs": [
    {
     "name": "stdout",
     "output_type": "stream",
     "text": [
      "2122\n",
      "2122\n"
     ]
    }
   ],
   "source": [
    "df['output_path'] = df['audio_filename'].apply(lambda x: os.path.join(output_dir, os.path.splitext(x)[0] + '.npz'))\n",
    "output_paths = list(df['output_path'])\n",
    "list_files = [os.path.join(output_dir, filename) for filename in os.listdir(output_dir)]\n",
    "rem_files = [x for x in output_paths if x not in list_files]\n",
    "df_new = df[df['output_path'].isin(rem_files)]\n",
    "\n",
    "left_rows = 0\n",
    "for partition_to_run in partitions:\n",
    "    if partition_to_run is None:\n",
    "        df_subset = df_new\n",
    "    else:\n",
    "        n_rows = df_new.shape[0]\n",
    "        partition_size = math.ceil(n_rows / num_partitions)\n",
    "        start_idx = partition_to_run * partition_size\n",
    "        end_idx = min(n_rows, (partition_to_run + 1) * partition_size)\n",
    "        df_subset = df_new.iloc[start_idx:end_idx]\n",
    "    left_rows = left_rows + df_subset.shape[0]\n",
    "    \n",
    "print(len(rem_files))\n",
    "print(left_rows)"
   ]
  }
 ],
 "metadata": {
  "kernelspec": {
   "display_name": "Python 3",
   "language": "python",
   "name": "python3"
  },
  "language_info": {
   "codemirror_mode": {
    "name": "ipython",
    "version": 3
   },
   "file_extension": ".py",
   "mimetype": "text/x-python",
   "name": "python",
   "nbconvert_exporter": "python",
   "pygments_lexer": "ipython3",
   "version": "3.7.0"
  }
 },
 "nbformat": 4,
 "nbformat_minor": 4
}
