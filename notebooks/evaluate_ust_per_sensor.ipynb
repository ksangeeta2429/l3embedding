{
 "cells": [
  {
   "cell_type": "code",
   "execution_count": 1,
   "metadata": {},
   "outputs": [
    {
     "name": "stdout",
     "output_type": "stream",
     "text": [
      "/scratch/sk7898/l3embedding/classifier/sonyc_ust\n"
     ]
    },
    {
     "name": "stderr",
     "output_type": "stream",
     "text": [
      "Using TensorFlow backend.\n"
     ]
    }
   ],
   "source": [
    "%cd '/scratch/sk7898/l3embedding/classifier/sonyc_ust'\n",
    "import warnings\n",
    "warnings.filterwarnings(\"ignore\", category=FutureWarning)\n",
    "\n",
    "import os\n",
    "import random\n",
    "import csv\n",
    "import json\n",
    "import glob\n",
    "import pandas as pd\n",
    "import numpy as np\n",
    "import resampy\n",
    "import tensorflow as tf\n",
    "import soundfile as sf\n",
    "import librosa\n",
    "import keras\n",
    "from keras.models import load_model\n",
    "from metrics import parse_coarse_prediction, micro_averaged_auprc, macro_averaged_auprc, evaluate_df\n",
    "from classify import load_embeddings, predict_mil, construct_mlp_mil\n",
    "# New modules: oyaml and pandas\n",
    "import oyaml as yaml"
   ]
  },
  {
   "cell_type": "code",
   "execution_count": null,
   "metadata": {},
   "outputs": [],
   "source": [
    "def write_to_output(y_pred, output_path, test_file_list, annotation_data, taxonomy):\n",
    "    \n",
    "    coarse_fine_labels = [[\"{}-{}_{}\".format(coarse_id, fine_id, fine_label)\n",
    "                           for fine_id, fine_label in fine_dict.items()]\n",
    "                          for coarse_id, fine_dict in taxonomy['fine'].items()]\n",
    "        \n",
    "    full_fine_target_labels = [fine_label for fine_list in coarse_fine_labels\n",
    "                               for fine_label in fine_list]\n",
    "        \n",
    "    coarse_target_labels = [\"_\".join([str(k), v])\n",
    "                            for k, v in taxonomy['coarse'].items()]\n",
    "    \n",
    "    annotation = annotation_data.sort_values('audio_filename')[['split', 'sensor_id', 'audio_filename']].drop_duplicates()\n",
    "    annotation = annotation[annotation['audio_filename'].isin(test_file_list)]\n",
    "    split_list = annotation['split'].tolist()\n",
    "    sensor_list = annotation['sensor_id'].tolist()\n",
    "    \n",
    "    with open(output_path, 'w') as f:\n",
    "        csvwriter = csv.writer(f)\n",
    "\n",
    "        # Write fields\n",
    "        fields = [\"split\", \"sensor_id\", \"audio_filename\"] + full_fine_target_labels + coarse_target_labels\n",
    "        csvwriter.writerow(fields)\n",
    "\n",
    "        # Write results for each file to CSV\n",
    "        for split, sid, filename, y in zip(split_list, sensor_list, test_file_list, y_pred):\n",
    "            row = [split, sid, filename]\n",
    "\n",
    "            # Add placeholder values for fine level\n",
    "            row += [0.0 for _ in range(len(full_fine_target_labels))]\n",
    "            # Add coarse level labels\n",
    "            row += list(y)\n",
    "\n",
    "            csvwriter.writerow(row)"
   ]
  },
  {
   "cell_type": "code",
   "execution_count": null,
   "metadata": {},
   "outputs": [],
   "source": [
    "def filter_ground_truth_split(ann_df, aggregate=True, valid_sensor_ids=None, split_path=None, split=None):\n",
    "    \n",
    "    if split and not valid_sensor_ids:\n",
    "        #gt_df = ann_df[(ann_df[\"annotator_id\"] > 0) & (ann_df['split'] == split)]\n",
    "        gt_df = ann_df[(ann_df[\"annotator_id\"] == 0) & (ann_df['split'] == split)]\n",
    "    elif split and valid_sensor_ids:\n",
    "        gt_df = ann_df[(ann_df[\"annotator_id\"] == 0) & (ann_df['split'] == split) & (ann_df['sensor_id'].isin(valid_sensor_ids))]\n",
    "    else:\n",
    "        gt_df = ann_df[ann_df[\"annotator_id\"] == 0]\n",
    "    \n",
    "    if aggregate:\n",
    "        gt_df = gt_df.groupby(\"audio_filename\", group_keys=False).max()\n",
    "    \n",
    "    gt_df.reset_index(inplace=True)\n",
    "    if 'index' in gt_df.keys():\n",
    "        gt_df = gt_df.drop(columns=['index'])\n",
    "    return gt_df"
   ]
  },
  {
   "cell_type": "code",
   "execution_count": null,
   "metadata": {},
   "outputs": [],
   "source": [
    "def parse_ground_truth(annotation_path, yaml_path, valid_sensor_ids=None, split_path=None, split=None):\n",
    "\n",
    "    # Create dictionary to parse tags\n",
    "    with open(yaml_path, 'r') as stream:\n",
    "        yaml_dict = yaml.load(stream, Loader=yaml.Loader)\n",
    "\n",
    "    # Load CSV file into a Pandas DataFrame.\n",
    "    ann_df = pd.read_csv(annotation_path)\n",
    "    gt_df = filter_ground_truth_split(ann_df,\n",
    "                                      valid_sensor_ids=valid_sensor_ids,\n",
    "                                      split_path=split_path,\n",
    "                                      split=split)\n",
    "\n",
    "    # Rename coarse columns.\n",
    "    coarse_dict = yaml_dict[\"coarse\"]\n",
    "    coarse_renaming = {\n",
    "        \"_\".join([str(c), coarse_dict[c], \"presence\"]): str(c)\n",
    "        for c in coarse_dict}\n",
    "    gt_df = gt_df.rename(columns=coarse_renaming)\n",
    "\n",
    "    # Collect tag names as strings and map them to mixed (coarse-fine) ID pairs.\n",
    "    # The \"mixed key\" is a hyphenation of the coarse ID and fine ID.\n",
    "    fine_dict = {}\n",
    "    for coarse_id in yaml_dict[\"fine\"]:\n",
    "        for fine_id in yaml_dict[\"fine\"][coarse_id]:\n",
    "            mixed_key = \"-\".join([str(coarse_id), str(fine_id)])\n",
    "            fine_dict[mixed_key] = yaml_dict[\"fine\"][coarse_id][fine_id]\n",
    "\n",
    "    # Rename fine columns.\n",
    "    fine_renaming = {\"_\".join([k, fine_dict[k], \"presence\"]): k\n",
    "        for k in fine_dict}\n",
    "    gt_df = gt_df.rename(columns=fine_renaming)\n",
    "\n",
    "    # Loop over coarse tags.\n",
    "    n_samples = len(gt_df)\n",
    "    coarse_dict = yaml_dict[\"coarse\"]\n",
    "    for coarse_id in yaml_dict[\"coarse\"]:\n",
    "        # Construct incomplete fine tag by appending -X to the coarse tag.\n",
    "        incomplete_tag = str(coarse_id) + \"-X\"\n",
    "\n",
    "        # If the incomplete tag is not in the prediction, append a column of zeros.\n",
    "        # This is the case e.g. for coarse ID 7 (\"dogs\") which has a single\n",
    "        # fine-level tag (\"7-1_dog-barking-whining\") and thus no incomplete\n",
    "        # tag 7-X.\n",
    "        if incomplete_tag not in gt_df.columns:\n",
    "            gt_df[incomplete_tag] = np.zeros((n_samples,)).astype('int')\n",
    "\n",
    "    gt_df = gt_df.sort_values('audio_filename')\n",
    "\n",
    "    gt_df.reset_index(inplace=True)\n",
    "    if 'index' in gt_df.keys():\n",
    "        gt_df = gt_df.drop(columns=['index'])\n",
    "\n",
    "    # Return output in DataFrame format.\n",
    "    return gt_df"
   ]
  },
  {
   "cell_type": "code",
   "execution_count": null,
   "metadata": {},
   "outputs": [],
   "source": [
    "def evaluate(prediction_path, annotation_path, yaml_path, mode, \n",
    "             valid_sensor_ids=None,\n",
    "             split_path=None, \n",
    "             per_sensor=False, \n",
    "             split=None):\n",
    "\n",
    "    with open(yaml_path, 'r') as stream:\n",
    "        yaml_dict = yaml.load(stream, Loader=yaml.Loader)\n",
    "\n",
    "    # Parse ground truth.\n",
    "    gt_df = parse_ground_truth(annotation_path, yaml_path,\n",
    "                               valid_sensor_ids=valid_sensor_ids,\n",
    "                               split_path=split_path,\n",
    "                               split=split)\n",
    "\n",
    "    # Parse predictions.\n",
    "    if mode == \"fine\":\n",
    "        pred_df = parse_fine_prediction(prediction_path, yaml_path)\n",
    "    elif mode == \"coarse\":\n",
    "        pred_df = parse_coarse_prediction(prediction_path, yaml_path)\n",
    "    \n",
    "    flist = [value for value in gt_df['audio_filename'].unique().tolist() \n",
    "             if value in pred_df['audio_filename'].unique().tolist()] \n",
    "    pred_df = pred_df[pred_df['audio_filename'].isin(flist)]\n",
    "    gt_df = gt_df[gt_df['audio_filename'].isin(flist)]\n",
    "\n",
    "    if per_sensor:\n",
    "        return evaluate_sensor_df(gt_df, pred_df, mode, yaml_dict, split=split)\n",
    "    else:\n",
    "        return evaluate_df(gt_df, pred_df, mode, yaml_dict)"
   ]
  },
  {
   "cell_type": "code",
   "execution_count": null,
   "metadata": {},
   "outputs": [],
   "source": [
    "def evaluate_sensor_df(gt_df, pred_df, mode, yaml_dict, split=None):\n",
    "    \n",
    "    dicts = {}\n",
    "    split = split if split else 'validate'\n",
    "    sids = pred_df[pred_df['split'] == split]['sensor_id'].unique().tolist()\n",
    "        \n",
    "    for sid in sids:\n",
    "        gt = gt_df[(gt_df['split'] == split) & (gt_df['sensor_id'] == sid)]\n",
    "        pred = pred_df[(pred_df['split'] == split) & (pred_df['sensor_id'] == sid)]\n",
    "        gt = gt.drop(columns=['split', 'sensor_id'])\n",
    "        pred = pred.drop(columns=['split', 'sensor_id'])\n",
    "        dicts[sid] = evaluate_df(gt, pred, mode, yaml_dict)\n",
    "    return dicts"
   ]
  },
  {
   "cell_type": "code",
   "execution_count": null,
   "metadata": {},
   "outputs": [],
   "source": [
    "emb_dir = '/scratch/dr2915/embeddings/features/sonyc_ust/l3/melSpec_20200304183233_48000_256_242_2048'\n",
    "annotation_path = '/beegfs/dr2915/sonyc_ust/data/annotations.csv'\n",
    "taxonomy_path = '/beegfs/dr2915/sonyc_ust/data/dcase-ust-taxonomy.yaml'\n",
    "cls_path = '/scratch/dr2915/embeddings/classifier/sonyc_ust/mil/melSpec_20200304183233_48000_256_242_2048/0_0/results'\n",
    "output_path = os.path.join(cls_path, 'output_1.csv')\n",
    "annotation_data = pd.read_csv(annotation_path).sort_values('audio_filename')\n",
    "\n",
    "with open(taxonomy_path, 'r') as f:\n",
    "    taxonomy = yaml.load(f, Loader=yaml.Loader)\n",
    "\n",
    "annotation_data = pd.read_csv(annotation_path).sort_values('audio_filename')\n",
    "with open(taxonomy_path, 'r') as f:\n",
    "    taxonomy = yaml.load(f, Loader=yaml.Loader)\n",
    "\n",
    "# annotation_subset = annotation_data[(annotation_data['split'] == split) & \n",
    "#                                     (annotation_data.sort_values('sensor_id')['sensor_id'] == s_id)\n",
    "#                                    ]\n",
    "file_list = annotation_data.sort_values('audio_filename')['audio_filename'].unique().tolist()"
   ]
  },
  {
   "cell_type": "code",
   "execution_count": null,
   "metadata": {},
   "outputs": [],
   "source": [
    "embeddings = load_embeddings(file_list, emb_dir)\n",
    "X = np.array(embeddings)\n",
    "_, num_frames, emb_size = X.shape\n",
    "\n",
    "num_classes = 8\n",
    "model_weight_file = os.path.join(cls_path, 'model_best.h5')\n",
    "model = construct_mlp_mil(num_frames,\n",
    "                          emb_size,\n",
    "                          num_classes,\n",
    "                          num_hidden_layers=0,\n",
    "                          hidden_layer_size=0)\n",
    "\n",
    "model.load_weights(model_weight_file)\n",
    "\n",
    "pred = model.predict(X)\n",
    "print(pred.shape)\n",
    "\n",
    "# Discard auxilliary predictions\n",
    "if type(pred) == list:\n",
    "    pred = pred[0]\n",
    "\n",
    "pred.tolist()\n",
    "write_to_output(pred, output_path, file_list, annotation_data, taxonomy)"
   ]
  },
  {
   "cell_type": "code",
   "execution_count": null,
   "metadata": {},
   "outputs": [],
   "source": [
    "common = True\n",
    "split = 'test'\n",
    "\n",
    "out = pd.read_csv(output_path)\n",
    "l1 = out[out['split'] == 'test']['sensor_id'].unique().tolist()\n",
    "l2 = out[out['split'] == 'train']['sensor_id'].unique().tolist()\n",
    "\n",
    "if common:\n",
    "    test_sids = out[(out['sensor_id'].isin(l1)) & (out['sensor_id'].isin(l2))]['sensor_id'].unique().tolist()\n",
    "else:\n",
    "    test_sids = out[(out['sensor_id'].isin(l1)) & (~out['sensor_id'].isin(l2))]['sensor_id'].unique().tolist()\n",
    "\n",
    "df_dicts = evaluate(\n",
    "                    output_path,\n",
    "                    annotation_path,\n",
    "                    taxonomy_path, \n",
    "                    mode='coarse',\n",
    "                    valid_sensor_ids=None,\n",
    "                    per_sensor=True,\n",
    "                    split=split\n",
    "            )"
   ]
  },
  {
   "cell_type": "code",
   "execution_count": null,
   "metadata": {},
   "outputs": [],
   "source": [
    "metrics = {}\n",
    "sensor_df = pd.read_csv('/scratch/sk7898/l3embedding/notebooks/data/sensor_split_ids.csv')\n",
    "\n",
    "for sensor, df_dict in df_dicts.items():\n",
    "    metrics[sensor] = {}\n",
    "    micro_auprc, eval_df = micro_averaged_auprc(df_dict, return_df=True)\n",
    "    macro_auprc, class_auprc = macro_averaged_auprc(df_dict, return_classwise=True)\n",
    "\n",
    "    # Get index of first threshold that is at least 0.5\n",
    "    thresh_0pt5_idx = (eval_df['threshold'] >= 0.5).to_numpy().nonzero()[0][0]\n",
    "\n",
    "    metrics[sensor][\"sensor_name\"] = sensor_df[sensor_df['sensor_id'] == sensor]['sensor_name'].tolist()[0]\n",
    "    metrics[sensor][\"micro_auprc\"] = micro_auprc\n",
    "    metrics[sensor][\"micro_f1\"] = eval_df[\"F\"][thresh_0pt5_idx]\n",
    "    metrics[sensor][\"macro_auprc\"] = macro_auprc\n",
    "\n",
    "#     print(\" **** sensor_id: {}\".format(sensor))\n",
    "#     print(\"{} level evaluation:\".format(mode.capitalize()))\n",
    "#     print(\"======================\")\n",
    "#     print(\" * Micro AUPRC:           {}\".format(metrics[sensor][\"micro_auprc\"]))\n",
    "#     print(\" * Micro F1-score (@0.5): {}\".format(metrics[sensor][\"micro_f1\"]))\n",
    "#     print(\" * Macro AUPRC:           {}\".format(metrics[sensor][\"macro_auprc\"]))\n",
    "    \n",
    "#     print(\" * Coarse Tag AUPRC:\")\n",
    "#     metrics[sensor][\"class_auprc\"] = {}\n",
    "#     for coarse_id, auprc in class_auprc.items():\n",
    "#         coarse_name = taxonomy['coarse'][int(coarse_id)]\n",
    "#         metrics[sensor][\"class_auprc\"][coarse_name] = auprc\n",
    "#         print(\"      - {}: {}\".format(coarse_name, auprc))"
   ]
  },
  {
   "cell_type": "code",
   "execution_count": null,
   "metadata": {},
   "outputs": [],
   "source": [
    "result = pd.DataFrame.from_dict(metrics, orient='index')\n",
    "result"
   ]
  },
  {
   "cell_type": "code",
   "execution_count": null,
   "metadata": {},
   "outputs": [],
   "source": [
    "result.to_csv('/scratch/sk7898/l3embedding/notebooks/data/per_sensor_{}.csv'.format(split))"
   ]
  },
  {
   "cell_type": "code",
   "execution_count": 12,
   "metadata": {},
   "outputs": [],
   "source": [
    "import seaborn as sns\n",
    "import pandas as pd\n",
    "import numpy as np\n",
    "import matplotlib.pyplot as plt\n",
    "\n",
    "test1 = pd.read_csv('/scratch/sk7898/l3embedding/notebooks/data/per_sensor_test.csv')\n",
    "val1 = pd.read_csv('/scratch/sk7898/l3embedding/notebooks/data/per_sensor_validate.csv')"
   ]
  },
  {
   "cell_type": "code",
   "execution_count": 3,
   "metadata": {},
   "outputs": [],
   "source": [
    "val = val1[~val1['sensor_id'].isin([0, 2])]\n",
    "test = test1[~test1['sensor_id'].isin([0, 2])]\n",
    "# v_a = val[~val['sensor_id'].isin([0, 2])]['micro_auprc'].mean()\n",
    "# v_f = val[~val['sensor_id'].isin([0, 2])]['micro_f1'].mean()\n",
    "# t_a = test[~test['sensor_id'].isin([0, 2])]['micro_auprc'].mean()\n",
    "# t_f = test[~test['sensor_id'].isin([0, 2])]['micro_f1'].mean()"
   ]
  },
  {
   "cell_type": "code",
   "execution_count": 33,
   "metadata": {},
   "outputs": [
    {
     "data": {
      "image/png": "[encoded data removed]",
      "text/plain": [
       "<Figure size 720x432 with 1 Axes>"
      ]
     },
     "metadata": {
      "needs_background": "light"
     },
     "output_type": "display_data"
    }
   ],
   "source": [
    "s0_1 = test1[test1['sensor_id'] == 0][\"micro_f1\"][0]\n",
    "s2_1 = test1[test1['sensor_id'] == 2][\"micro_f1\"][2]\n",
    "s0_2 = test1[test1['sensor_id'] == 0][\"micro_auprc\"][0]\n",
    "s2_2 = test1[test1['sensor_id'] == 2][\"micro_auprc\"][2]\n",
    "\n",
    "fig, ax = plt.subplots(figsize=(10,6))\n",
    "sns.kdeplot(test[\"micro_f1\"], color='orange', label='micro-F1', ax=ax)\n",
    "xf, yf = ax.lines[0].get_data()\n",
    "y0_1 = np.interp(s0_1, xf, yf)\n",
    "y2_1 = np.interp(s2_1, xf, yf)\n",
    "\n",
    "sns.kdeplot(test[\"micro_auprc\"], color='skyblue', label='micro-auprc', ax=ax)\n",
    "xa, ya = ax.lines[1].get_data()\n",
    "y0_2 = np.interp(s0_2, xa, ya)\n",
    "y2_2 = np.interp(s2_2, xa, ya)\n",
    "\n",
    "plt.vlines(s0_1, ymin=0, ymax=y0_1, color='red', label='micro-F1|sensor_id=0')\n",
    "plt.vlines(s2_1, ymin=0, ymax=y2_1, color='black', label='micro-F1|sensor_id=2')\n",
    "plt.vlines(s0_2, ymin=0, ymax=y0_2, color='red', ls='--', label='micro-auprc|sensor_id=0')\n",
    "plt.vlines(s2_2, ymin=0, ymax=y2_2, color='black', ls='--', label='micro-auprc|sensor_id=2')\n",
    "plt.legend()\n",
    "plt.title('Micro-F1 and Micro-AUPRC on Test Data')\n",
    "plt.xlabel('micro-F1/micro-auprc')\n",
    "plt.show()"
   ]
  },
  {
   "cell_type": "code",
   "execution_count": 5,
   "metadata": {},
   "outputs": [
    {
     "ename": "PermissionError",
     "evalue": "[Errno 13] Permission denied: '/scratch/work/sonyc/'",
     "output_type": "error",
     "traceback": [
      "\u001b[0;31m---------------------------------------------------------------------------\u001b[0m",
      "\u001b[0;31mPermissionError\u001b[0m                           Traceback (most recent call last)",
      "\u001b[0;32m<ipython-input-5-9a9573a322cb>\u001b[0m in \u001b[0;36m<module>\u001b[0;34m\u001b[0m\n\u001b[1;32m      1\u001b[0m \u001b[0mp\u001b[0m \u001b[0;34m=\u001b[0m \u001b[0;34m'/scratch/work/sonyc/'\u001b[0m\u001b[0;34m\u001b[0m\u001b[0;34m\u001b[0m\u001b[0m\n\u001b[0;32m----> 2\u001b[0;31m \u001b[0;32mfor\u001b[0m \u001b[0mf\u001b[0m \u001b[0;32min\u001b[0m \u001b[0mos\u001b[0m\u001b[0;34m.\u001b[0m\u001b[0mlistdir\u001b[0m\u001b[0;34m(\u001b[0m\u001b[0mp\u001b[0m\u001b[0;34m)\u001b[0m\u001b[0;34m:\u001b[0m\u001b[0;34m\u001b[0m\u001b[0;34m\u001b[0m\u001b[0m\n\u001b[0m\u001b[1;32m      3\u001b[0m     \u001b[0mprint\u001b[0m\u001b[0;34m(\u001b[0m\u001b[0mf\u001b[0m\u001b[0;34m)\u001b[0m\u001b[0;34m\u001b[0m\u001b[0;34m\u001b[0m\u001b[0m\n",
      "\u001b[0;31mPermissionError\u001b[0m: [Errno 13] Permission denied: '/scratch/work/sonyc/'"
     ]
    }
   ],
   "source": [
    "p = '/scratch/work/sonyc/'\n",
    "for f in os.listdir(p):\n",
    "    print(f)"
   ]
  },
  {
   "cell_type": "code",
   "execution_count": null,
   "metadata": {},
   "outputs": [],
   "source": []
  }
 ],
 "metadata": {
  "kernelspec": {
   "display_name": "Python 3.6.7 64-bit ('l3embedding-tf-2-cpu': conda)",
   "language": "python",
   "name": "python36764bitl3embeddingtf2cpucondaf8a2c7b8f7ff4137a6afe19afb6a1070"
  },
  "language_info": {
   "codemirror_mode": {
    "name": "ipython",
    "version": 3
   },
   "file_extension": ".py",
   "mimetype": "text/x-python",
   "name": "python",
   "nbconvert_exporter": "python",
   "pygments_lexer": "ipython3",
   "version": "3.6.7"
  }
 },
 "nbformat": 4,
 "nbformat_minor": 4
}
